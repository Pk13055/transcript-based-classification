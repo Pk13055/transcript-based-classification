{
 "cells": [
  {
   "cell_type": "code",
   "execution_count": 80,
   "metadata": {},
   "outputs": [],
   "source": [
    "import numpy as np\n",
    "import pandas as pd\n",
    "import matplotlib.pyplot as plt\n",
    "%matplotlib inline"
   ]
  },
  {
   "cell_type": "code",
   "execution_count": 14,
   "metadata": {},
   "outputs": [
    {
     "name": "stdout",
     "output_type": "stream",
     "text": [
      "                                                text      label\n",
      "0            mr. mine you say babe what's yeah first  [0, 0, 1]\n",
      "1  mr. mine you say babe what's yeah first of a d...  [0, 0, 1]\n",
      "2            of a dynamic punch get it good mr. line  [0, 0, 1]\n",
      "3  of a dynamic punch get it good mr. line you'll...  [0, 0, 1]\n",
      "4               you'll get stronger glabra it's your  [0, 0, 1]                                                 text      label\n",
      "0  as a woman you shouldnt complain about cleanin...  [0, 0, 1]\n",
      "1  boy dats coldtyga dwn bad for cuffin dat hoe i...  [1, 0, 0]\n",
      "2  dawgyou ever fuck a bitch and she start to cry...  [1, 0, 0]\n",
      "3                             she look like a tranny  [1, 0, 0]\n",
      "4  the shit you hear about me might be true or it...  [1, 0, 0]\n"
     ]
    }
   ],
   "source": [
    "# loading the datasets\n",
    "youtube_, davidson = pd.read_csv('final.csv'), pd.read_csv('modified_davidson.csv')\n",
    "print(youtube.head(), davidson.head())\n",
    "# in case of davidson and youtube, [a, b, c] is abusive, hate, clean"
   ]
  },
  {
   "cell_type": "code",
   "execution_count": 16,
   "metadata": {},
   "outputs": [
    {
     "name": "stdout",
     "output_type": "stream",
     "text": [
      "           text\n",
      "label          \n",
      "[0, 0, 1]  5298\n",
      "[0, 1, 0]   244\n",
      "[1, 0, 0]   456\n",
      "[1, 1, 0]   824             text\n",
      "label           \n",
      "[0, 0, 1]   4162\n",
      "[0, 1, 0]   1430\n",
      "[1, 0, 0]  19189\n"
     ]
    }
   ],
   "source": [
    "# creating the text dataset for training\n",
    "youtube = youtube_[['text', 'label']]\n",
    "print(youtube.groupby('label').count(), davidson.groupby('label').count())"
   ]
  },
  {
   "cell_type": "markdown",
   "metadata": {},
   "source": [
    "As seen, there are 4 categories, viz. Abusive, Hate, abusive + hate, and clean.\n",
    "\n",
    "| Category | Samples |\n",
    "| :---:    | :---: |\n",
    "| Abusive |  19189 + 456 | \n",
    "| Hate | 1430 + 244  |\n",
    "| Abusive + Hate | 0 + 824 |\n",
    "| Clean | 4162 + 5298 |"
   ]
  },
  {
   "cell_type": "code",
   "execution_count": 46,
   "metadata": {},
   "outputs": [
    {
     "data": {
      "text/html": [
       "<div>\n",
       "<style scoped>\n",
       "    .dataframe tbody tr th:only-of-type {\n",
       "        vertical-align: middle;\n",
       "    }\n",
       "\n",
       "    .dataframe tbody tr th {\n",
       "        vertical-align: top;\n",
       "    }\n",
       "\n",
       "    .dataframe thead th {\n",
       "        text-align: right;\n",
       "    }\n",
       "</style>\n",
       "<table border=\"1\" class=\"dataframe\">\n",
       "  <thead>\n",
       "    <tr style=\"text-align: right;\">\n",
       "      <th></th>\n",
       "      <th>text</th>\n",
       "    </tr>\n",
       "    <tr>\n",
       "      <th>label</th>\n",
       "      <th></th>\n",
       "    </tr>\n",
       "  </thead>\n",
       "  <tbody>\n",
       "    <tr>\n",
       "      <th>[0, 0, 1]</th>\n",
       "      <td>5222</td>\n",
       "    </tr>\n",
       "    <tr>\n",
       "      <th>[0, 1, 0]</th>\n",
       "      <td>1479</td>\n",
       "    </tr>\n",
       "    <tr>\n",
       "      <th>[1, 0, 0]</th>\n",
       "      <td>19280</td>\n",
       "    </tr>\n",
       "    <tr>\n",
       "      <th>[1, 1, 0]</th>\n",
       "      <td>165</td>\n",
       "    </tr>\n",
       "  </tbody>\n",
       "</table>\n",
       "</div>"
      ],
      "text/plain": [
       "            text\n",
       "label           \n",
       "[0, 0, 1]   5222\n",
       "[0, 1, 0]   1479\n",
       "[1, 0, 0]  19280\n",
       "[1, 1, 0]    165"
      ]
     },
     "execution_count": 46,
     "metadata": {},
     "output_type": "execute_result"
    }
   ],
   "source": [
    "SEED_PERCENT = 0.2\n",
    "test_sample = youtube.groupby('label').apply(lambda x: x.sample(frac=SEED_PERCENT))\n",
    "test_sample.reset_index(drop=True, inplace=True)\n",
    "dataset = pd.merge(davidson, test_sample, on=['text', 'label'], how='outer')\n",
    "dataset.to_csv('comb_data.csv', index=False)\n",
    "dataset.groupby('label').count()"
   ]
  },
  {
   "cell_type": "markdown",
   "metadata": {},
   "source": [
    "## Training the model\n",
    "\n",
    "Now that the dataset is prepared, we can proceed to training and compiling the model."
   ]
  },
  {
   "cell_type": "code",
   "execution_count": 47,
   "metadata": {},
   "outputs": [
    {
     "data": {
      "text/html": [
       "<div>\n",
       "<style scoped>\n",
       "    .dataframe tbody tr th:only-of-type {\n",
       "        vertical-align: middle;\n",
       "    }\n",
       "\n",
       "    .dataframe tbody tr th {\n",
       "        vertical-align: top;\n",
       "    }\n",
       "\n",
       "    .dataframe thead th {\n",
       "        text-align: right;\n",
       "    }\n",
       "</style>\n",
       "<table border=\"1\" class=\"dataframe\">\n",
       "  <thead>\n",
       "    <tr style=\"text-align: right;\">\n",
       "      <th></th>\n",
       "      <th>text</th>\n",
       "      <th>label</th>\n",
       "    </tr>\n",
       "  </thead>\n",
       "  <tbody>\n",
       "    <tr>\n",
       "      <th>0</th>\n",
       "      <td>as a woman you shouldnt complain about cleanin...</td>\n",
       "      <td>[0, 0, 1]</td>\n",
       "    </tr>\n",
       "    <tr>\n",
       "      <th>1</th>\n",
       "      <td>boy dats coldtyga dwn bad for cuffin dat hoe i...</td>\n",
       "      <td>[1, 0, 0]</td>\n",
       "    </tr>\n",
       "    <tr>\n",
       "      <th>2</th>\n",
       "      <td>dawgyou ever fuck a bitch and she start to cry...</td>\n",
       "      <td>[1, 0, 0]</td>\n",
       "    </tr>\n",
       "    <tr>\n",
       "      <th>3</th>\n",
       "      <td>she look like a tranny</td>\n",
       "      <td>[1, 0, 0]</td>\n",
       "    </tr>\n",
       "    <tr>\n",
       "      <th>4</th>\n",
       "      <td>the shit you hear about me might be true or it...</td>\n",
       "      <td>[1, 0, 0]</td>\n",
       "    </tr>\n",
       "  </tbody>\n",
       "</table>\n",
       "</div>"
      ],
      "text/plain": [
       "                                                text      label\n",
       "0  as a woman you shouldnt complain about cleanin...  [0, 0, 1]\n",
       "1  boy dats coldtyga dwn bad for cuffin dat hoe i...  [1, 0, 0]\n",
       "2  dawgyou ever fuck a bitch and she start to cry...  [1, 0, 0]\n",
       "3                             she look like a tranny  [1, 0, 0]\n",
       "4  the shit you hear about me might be true or it...  [1, 0, 0]"
      ]
     },
     "execution_count": 47,
     "metadata": {},
     "output_type": "execute_result"
    }
   ],
   "source": [
    "dataset = pd.read_csv('comb_data.csv')\n",
    "dataset.head()"
   ]
  },
  {
   "cell_type": "code",
   "execution_count": 132,
   "metadata": {},
   "outputs": [
    {
     "data": {
      "text/plain": [
       "(22338, 256)"
      ]
     },
     "execution_count": 132,
     "metadata": {},
     "output_type": "execute_result"
    }
   ],
   "source": [
    "import numpy as np\n",
    "embedding_ = np.load('embeddings.npy')\n",
    "embedding_.shape"
   ]
  },
  {
   "cell_type": "code",
   "execution_count": 141,
   "metadata": {},
   "outputs": [
    {
     "name": "stdout",
     "output_type": "stream",
     "text": [
      "_________________________________________________________________\n",
      "Layer (type)                 Output Shape              Param #   \n",
      "=================================================================\n",
      "Embedding_Layer (Embedding)  (None, 128, 256)          5718528   \n",
      "_________________________________________________________________\n",
      "Dropout (Dropout)            (None, 128, 256)          0         \n",
      "_________________________________________________________________\n",
      "bidirectional_14 (Bidirectio (None, 128, 512)          1050624   \n",
      "_________________________________________________________________\n",
      "bidirectional_15 (Bidirectio (None, 256)               656384    \n",
      "_________________________________________________________________\n",
      "Dense_64 (Dense)             (None, 64)                16448     \n",
      "_________________________________________________________________\n",
      "Dense_32 (Dense)             (None, 32)                2080      \n",
      "_________________________________________________________________\n",
      "Dense_3 (Dense)              (None, 3)                 99        \n",
      "=================================================================\n",
      "Total params: 7,444,163\n",
      "Trainable params: 7,444,163\n",
      "Non-trainable params: 0\n",
      "_________________________________________________________________\n",
      "None\n"
     ]
    }
   ],
   "source": [
    "from keras.models import Sequential, load_model, save_model\n",
    "from keras.layers import Embedding, Dropout, Bidirectional, LSTM, Dense\n",
    "INPUT_SIZE = 128\n",
    "def get_model(embedding, vocab_size=INPUT_SIZE):\n",
    "    model = Sequential()\n",
    "    model.add(Embedding(*embedding.shape, weights=[embedding], input_length=vocab_size, name='Embedding_Layer'))\n",
    "    model.add(Dropout(0.5, name=\"Dropout\"))\n",
    "    model.add(Bidirectional(LSTM(2 * vocab_size, dropout=0.3, recurrent_dropout=0.2, return_sequences=True, name=\"Bi-LSTM_Layer_1\")))\n",
    "    model.add(Bidirectional(LSTM(vocab_size, dropout=0.4, recurrent_dropout=0.1, name=\"Bi-LSTM_Layer_2\")))\n",
    "\n",
    "    model.add(Dense(64, activation='relu', name=\"Dense_64\"))\n",
    "    model.add(Dense(32, activation='relu', name=\"Dense_32\"))\n",
    "    model.add(Dense(3, activation='sigmoid',name='Dense_3'))\n",
    "    \n",
    "    model.compile(loss='categorical_crossentropy', optimizer='adam', metrics=['categorical_accuracy', 'accuracy'])\n",
    "    print(model.summary())\n",
    "    return model\n",
    "\n",
    "\n",
    "model = get_model(embedding_, INPUT_SIZE)"
   ]
  },
  {
   "cell_type": "code",
   "execution_count": 142,
   "metadata": {},
   "outputs": [
    {
     "data": {
      "text/plain": [
       "((26148, 128), (0, 128))"
      ]
     },
     "execution_count": 142,
     "metadata": {},
     "output_type": "execute_result"
    }
   ],
   "source": [
    "# model training\n",
    "from keras.preprocessing.text import Tokenizer\n",
    "from sklearn.model_selection import train_test_split\n",
    "from ast import literal_eval\n",
    "_X, _y = dataset['text'].astype('str'), dataset['label']\n",
    "\n",
    "tokenizer = Tokenizer(num_words=INPUT_SIZE)  # keeps all the words\n",
    "tokenizer.fit_on_texts(_X)\n",
    "X = tokenizer.texts_to_matrix(_X)\n",
    "y = np.array(list(map(lambda label: literal_eval(label), _y)))\n",
    "X_train, X_test, y_train, y_test = train_test_split(X, y, random_state=69, test_size=0.0)\n",
    "X_train.shape, X_test.shape"
   ]
  },
  {
   "cell_type": "code",
   "execution_count": null,
   "metadata": {},
   "outputs": [
    {
     "data": {
      "application/vnd.jupyter.widget-view+json": {
       "model_id": "4372674e605548d9a32ccb18884c0647",
       "version_major": 2,
       "version_minor": 0
      },
      "text/plain": [
       "HBox(children=(IntProgress(value=0, description='Training', max=4, style=ProgressStyle(description_width='init…"
      ]
     },
     "metadata": {},
     "output_type": "display_data"
    },
    {
     "data": {
      "application/vnd.jupyter.widget-view+json": {
       "model_id": "3bbf259670044c7fa441fb8b76ac6a73",
       "version_major": 2,
       "version_minor": 0
      },
      "text/plain": [
       "HBox(children=(IntProgress(value=0, description='Epoch 0', max=20918, style=ProgressStyle(description_width='i…"
      ]
     },
     "metadata": {},
     "output_type": "display_data"
    }
   ],
   "source": [
    "# train the model\n",
    "from keras_tqdm import TQDMNotebookCallback\n",
    "import datetime\n",
    "history = model.fit(X_train, y_train, batch_size=128, epochs=4, validation_split=0.2, verbose=0, callbacks=[TQDMNotebookCallback()])\n",
    "model_name = f\"model_{datetime.datetime.now()}.h5\"\n",
    "model.save(model_name)"
   ]
  },
  {
   "cell_type": "code",
   "execution_count": 91,
   "metadata": {},
   "outputs": [
    {
     "data": {
      "text/plain": [
       "<matplotlib.legend.Legend at 0x7f163d121908>"
      ]
     },
     "execution_count": 91,
     "metadata": {},
     "output_type": "execute_result"
    },
    {
     "data": {
      "image/png": "[encoded data removed]",
      "text/plain": [
       "<Figure size 2304x1152 with 2 Axes>"
      ]
     },
     "metadata": {
      "needs_background": "light"
     },
     "output_type": "display_data"
    }
   ],
   "source": [
    "fig = plt.figure(figsize=(32, 16))\n",
    "fig.add_subplot(1, 2, 1)\n",
    "plt.plot(history.history['acc'])\n",
    "plt.plot(history.history['val_acc'])\n",
    "plt.legend(['train', 'validation'], loc='upper left')\n",
    "plt.title(\"Training Accuracy\")\n",
    "plt.xlabel(\"Epoch\"), plt.ylabel(\"Accuracy\")\n",
    "fig.add_subplot(1, 2, 2)\n",
    "plt.plot(history.history['loss'])\n",
    "plt.plot(history.history['val_loss'])\n",
    "plt.title('Loss Decay')\n",
    "plt.ylabel('Loss'), plt.xlabel('Epoch')\n",
    "plt.legend(['train', 'val'], loc='upper right')"
   ]
  },
  {
   "cell_type": "markdown",
   "metadata": {},
   "source": [
    "## Model Evaluation and testing\n",
    "\n",
    "Now that we've trained the model, it's time to test it against some real world data."
   ]
  },
  {
   "cell_type": "code",
   "execution_count": 98,
   "metadata": {},
   "outputs": [
    {
     "name": "stdout",
     "output_type": "stream",
     "text": [
      "                                                text      label\n",
      "0            mr. mine you say babe what's yeah first  [0, 0, 1]\n",
      "1  mr. mine you say babe what's yeah first of a d...  [0, 0, 1]\n",
      "2            of a dynamic punch get it good mr. line  [0, 0, 1]\n",
      "3  of a dynamic punch get it good mr. line you'll...  [0, 0, 1]\n",
      "4               you'll get stronger glabra it's your  [0, 0, 1]\n",
      "_________________________________________________________________\n",
      "Layer (type)                 Output Shape              Param #   \n",
      "=================================================================\n",
      "embedding_layer (Embedding)  (None, 128, 512)          11437056  \n",
      "_________________________________________________________________\n",
      "dropout_6 (Dropout)          (None, 128, 512)          0         \n",
      "_________________________________________________________________\n",
      "bidirectional_6 (Bidirection (None, 128)               295424    \n",
      "_________________________________________________________________\n",
      "dense_11 (Dense)             (None, 64)                8256      \n",
      "_________________________________________________________________\n",
      "dense_12 (Dense)             (None, 32)                2080      \n",
      "_________________________________________________________________\n",
      "last (Dense)                 (None, 3)                 99        \n",
      "=================================================================\n",
      "Total params: 11,742,915\n",
      "Trainable params: 11,742,915\n",
      "Non-trainable params: 0\n",
      "_________________________________________________________________\n",
      "None\n"
     ]
    }
   ],
   "source": [
    "from keras.utils import plot_model\n",
    "test_df = pd.read_csv('final.csv')[['text', 'label']]\n",
    "# model = load_model(model_name)  # change this to the corresponding model file\n",
    "# plot_model(model, to_file='model.png')\n",
    "print(test_df.head())\n",
    "print(model.summary())"
   ]
  },
  {
   "cell_type": "code",
   "execution_count": 127,
   "metadata": {},
   "outputs": [
    {
     "data": {
      "text/plain": [
       "(6822, 128)"
      ]
     },
     "execution_count": 127,
     "metadata": {},
     "output_type": "execute_result"
    }
   ],
   "source": [
    "_X_test, y_test = test_df.text, np.array([literal_eval(_) for _ in test_df.label.values.tolist()])\n",
    "X_test = tokenizer.texts_to_matrix(_X_test)\n",
    "X_test.shape"
   ]
  },
  {
   "cell_type": "code",
   "execution_count": 115,
   "metadata": {},
   "outputs": [],
   "source": [
    "y_hat = model.predict(X_test)"
   ]
  },
  {
   "cell_type": "code",
   "execution_count": 131,
   "metadata": {},
   "outputs": [
    {
     "name": "stdout",
     "output_type": "stream",
     "text": [
      "              precision    recall  f1-score   support\n",
      "\n",
      "           0       0.22      0.79      0.35      1280\n",
      "           1       0.00      0.00      0.00      1068\n",
      "           2       0.86      0.37      0.52      5298\n",
      "\n",
      "   micro avg       0.44      0.39      0.41      7646\n",
      "   macro avg       0.36      0.39      0.29      7646\n",
      "weighted avg       0.63      0.39      0.42      7646\n",
      " samples avg       0.44      0.39      0.40      7646\n",
      "\n"
     ]
    }
   ],
   "source": [
    "from sklearn.metrics import classification_report\n",
    "y_hat = to_categorical([np.argmax(_) for _ in y_hat]).astype('int')\n",
    "print(classification_report(y_test, y_hat))"
   ]
  }
 ],
 "metadata": {
  "kernelspec": {
   "display_name": "Python 3",
   "language": "python",
   "name": "python3"
  },
  "language_info": {
   "codemirror_mode": {
    "name": "ipython",
    "version": 3
   },
   "file_extension": ".py",
   "mimetype": "text/x-python",
   "name": "python",
   "nbconvert_exporter": "python",
   "pygments_lexer": "ipython3",
   "version": "3.6.7"
  }
 },
 "nbformat": 4,
 "nbformat_minor": 2
}
