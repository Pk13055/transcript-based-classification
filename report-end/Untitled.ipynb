{
 "cells": [
  {
   "cell_type": "code",
   "execution_count": 29,
   "metadata": {},
   "outputs": [
    {
     "name": "stdout",
     "output_type": "stream",
     "text": [
      "16\n",
      "8\n",
      "1\n",
      "6\n",
      "19\n",
      "57\n"
     ]
    }
   ],
   "source": [
    "import pandas as pd\n",
    "df=pd.read_csv('final.csv')\n",
    "for i in range(5):\n",
    "    df1=df[df['Genre']==i]\n",
    "    print(len(df1.ID.unique()))\n",
    "df.count()\n",
    "print(len(df.ID.unique()))"
   ]
  },
  {
   "cell_type": "code",
   "execution_count": 26,
   "metadata": {},
   "outputs": [
    {
     "name": "stdout",
     "output_type": "stream",
     "text": [
      "4.542708333333334\n",
      "3.6875\n",
      "3.6166666666666667\n",
      "3.216666666666667\n",
      "7.852631578947369\n"
     ]
    }
   ],
   "source": [
    "for i in range(5):\n",
    "    df1=df[df['Genre']==i]\n",
    "    lis=(df1.ID.unique())\n",
    "    sum1=0\n",
    "    for j in range(len(lis)):\n",
    "        sum1+=int(df[df['ID']==lis[j]].tail(1).End)\n",
    "    print(sum1/(len(lis)*60))"
   ]
  },
  {
   "cell_type": "code",
   "execution_count": 50,
   "metadata": {},
   "outputs": [
    {
     "name": "stdout",
     "output_type": "stream",
     "text": [
      "49\n",
      "0\n",
      "0\n",
      "21\n",
      "147\n",
      "244\n"
     ]
    }
   ],
   "source": [
    "df=pd.read_csv('final.csv')\n",
    "for i in range(5):\n",
    "    df1=df[(df['Genre']==i) & (df['Hate']==1) & (df['Abusive']==0)]\n",
    "    print(df1.Hate.count())\n",
    "df1=df[(df['Hate']==1) & (df['Abusive']==0)]\n",
    "print(df1.Hate.count())"
   ]
  },
  {
   "cell_type": "code",
   "execution_count": 28,
   "metadata": {},
   "outputs": [
    {
     "data": {
      "text/plain": [
       "4.583234649122807"
      ]
     },
     "execution_count": 28,
     "metadata": {},
     "output_type": "execute_result"
    }
   ],
   "source": [
    "import numpy as np\n",
    "lis=[4.542708333333334 ,3.6875,3.6166666666666667,3.216666666666667,7.852631578947369]\n",
    "lis=np.array(lis)\n",
    "lis.mean()"
   ]
  },
  {
   "cell_type": "code",
   "execution_count": 51,
   "metadata": {},
   "outputs": [
    {
     "name": "stdout",
     "output_type": "stream",
     "text": [
      "1780\n",
      "519\n",
      "58\n",
      "336\n",
      "3656\n",
      "6822\n"
     ]
    }
   ],
   "source": [
    "df=pd.read_csv('final.csv')\n",
    "for i in range(5):\n",
    "    df1=df[(df['Genre']==i)]\n",
    "    print(df1.Hate.count())\n",
    "df1=df\n",
    "print(df1.Hate.count())"
   ]
  },
  {
   "cell_type": "code",
   "execution_count": null,
   "metadata": {},
   "outputs": [],
   "source": []
  }
 ],
 "metadata": {
  "kernelspec": {
   "display_name": "Python 3",
   "language": "python",
   "name": "python3"
  },
  "language_info": {
   "codemirror_mode": {
    "name": "ipython",
    "version": 3
   },
   "file_extension": ".py",
   "mimetype": "text/x-python",
   "name": "python",
   "nbconvert_exporter": "python",
   "pygments_lexer": "ipython3",
   "version": "3.7.2"
  }
 },
 "nbformat": 4,
 "nbformat_minor": 2
}
